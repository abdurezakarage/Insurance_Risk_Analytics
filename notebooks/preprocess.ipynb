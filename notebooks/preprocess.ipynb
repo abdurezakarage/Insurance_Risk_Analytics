{
 "cells": [
  {
   "cell_type": "code",
   "execution_count": 1,
   "id": "c60dad7f",
   "metadata": {},
   "outputs": [],
   "source": [
    "import pandas as pd\n",
    "import seaborn as sns\n",
    "import matplotlib.pyplot as plt\n",
    "import os\n",
    "# Add the project root directory to Python path\n",
    "import sys\n",
    "sys.path.append(os.path.abspath(os.path.join(os.path.dirname('__file__'), '..')))"
   ]
  },
  {
   "cell_type": "code",
   "execution_count": 2,
   "id": "cf245df9",
   "metadata": {},
   "outputs": [],
   "source": [
    "from src.services.process_data import DataProccessor"
   ]
  },
  {
   "cell_type": "code",
   "execution_count": 3,
   "id": "3b593d0a",
   "metadata": {},
   "outputs": [
    {
     "name": "stdout",
     "output_type": "stream",
     "text": [
      "Processed data saved to ../data/processed/insurance_clean.csv\n",
      "\n",
      "Basic Statistics:\n",
      "Total number of records: 990562\n",
      "Number of claims: 2774\n",
      "Average TotalClaims: 64.97\n",
      "Average TotalPremium: 61.67\n",
      "\n",
      "Unique values in categorical columns:\n",
      "\n",
      "Provinces: ['Gauteng' 'KwaZulu-Natal' 'Mpumalanga' 'Eastern Cape' 'Western Cape'\n",
      " 'Limpopo' 'North West' 'Free State' 'Northern Cape']\n",
      "\n",
      "Gender values: ['Not specified' 'Male' 'Female']\n",
      "\n",
      "Number of unique postal codes: 887\n"
     ]
    }
   ],
   "source": [
    "input_path = \"../data/MachineLearningRating_v3.txt\"\n",
    "output_path = \"../data/processed/insurance_clean.csv\"\n",
    "\n",
    "processor = DataProccessor(input_path, output_path)\n",
    "df_cleaned = processor.process()"
   ]
  }
 ],
 "metadata": {
  "kernelspec": {
   "display_name": "Python 3",
   "language": "python",
   "name": "python3"
  },
  "language_info": {
   "codemirror_mode": {
    "name": "ipython",
    "version": 3
   },
   "file_extension": ".py",
   "mimetype": "text/x-python",
   "name": "python",
   "nbconvert_exporter": "python",
   "pygments_lexer": "ipython3",
   "version": "3.13.3"
  }
 },
 "nbformat": 4,
 "nbformat_minor": 5
}
