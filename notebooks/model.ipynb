{
 "cells": [
  {
   "cell_type": "code",
   "execution_count": 1,
   "metadata": {},
   "outputs": [],
   "source": [
    "import pandas as pd\n",
    "import seaborn as sns\n",
    "import matplotlib.pyplot as plt\n",
    "import os\n",
    "import sys\n",
    "import sys\n",
    "sys.path.append(os.path.abspath(os.path.join(os.path.dirname('__file__'), '..')))"
   ]
  },
  {
   "cell_type": "code",
   "execution_count": 2,
   "metadata": {},
   "outputs": [
    {
     "name": "stderr",
     "output_type": "stream",
     "text": [
      "c:\\Users\\op\\AppData\\Local\\Programs\\Python\\Python313\\Lib\\site-packages\\tqdm\\auto.py:21: TqdmWarning: IProgress not found. Please update jupyter and ipywidgets. See https://ipywidgets.readthedocs.io/en/stable/user_install.html\n",
      "  from .autonotebook import tqdm as notebook_tqdm\n"
     ]
    }
   ],
   "source": [
    "from src.services.modeltrain import modelTrain"
   ]
  },
  {
   "cell_type": "code",
   "execution_count": 3,
   "metadata": {},
   "outputs": [
    {
     "name": "stderr",
     "output_type": "stream",
     "text": [
      "C:\\Users\\op\\AppData\\Local\\Temp\\ipykernel_14708\\1213517893.py:1: DtypeWarning: Columns (32,37) have mixed types. Specify dtype option on import or set low_memory=False.\n",
      "  df = pd.read_csv(\"../data/processed/insurance_clean.csv\")\n"
     ]
    }
   ],
   "source": [
    "df = pd.read_csv(\"../data/processed/insurance_clean.csv\")"
   ]
  },
  {
   "cell_type": "code",
   "execution_count": 4,
   "metadata": {},
   "outputs": [],
   "source": [
    "model = modelTrain(df)"
   ]
  },
  {
   "cell_type": "code",
   "execution_count": 5,
   "metadata": {},
   "outputs": [],
   "source": [
    "model.preprocess()\n",
    "model.prepare_data()\n",
    "model.train_models()\n",
    "model.train_classifiers()"
   ]
  },
  {
   "cell_type": "code",
   "execution_count": 6,
   "metadata": {},
   "outputs": [
    {
     "name": "stdout",
     "output_type": "stream",
     "text": [
      "\n",
      "--- Regression Model Comparison ---\n",
      "LinearRegression | RMSE: 6629.47 | R²: 0.971\n",
      "DecisionTree    | RMSE: 4688.45 | R²: 0.985\n",
      "RandomForest    | RMSE: 4027.55 | R²: 0.989\n",
      "XGBoost         | RMSE: 3769.92 | R²: 0.990\n",
      "\n",
      "--- Classification Model Comparison ---\n",
      "DecisionTree    | Accuracy: 1.00 | F1: 1.00 | Precision: 1.00 | Recall: 1.00\n",
      "RandomForest    | Accuracy: 1.00 | F1: 1.00 | Precision: 1.00 | Recall: 1.00\n",
      "XGBoost         | Accuracy: 1.00 | F1: 1.00 | Precision: 1.00 | Recall: 1.00\n"
     ]
    }
   ],
   "source": [
    "model.model_comparison_report()"
   ]
  },
  {
   "cell_type": "code",
   "execution_count": 7,
   "metadata": {},
   "outputs": [
    {
     "name": "stdout",
     "output_type": "stream",
     "text": [
      "\n",
      "Top 10 Most Influential Features (SHAP):\n",
      "claim_frequency: mean(|SHAP|) = 22302.4239\n",
      "RegistrationYear: mean(|SHAP|) = 2275.2944\n",
      "premium_per_claim: mean(|SHAP|) = 315.5124\n",
      "SumInsured: mean(|SHAP|) = 142.8169\n",
      "PostalCode: mean(|SHAP|) = 86.8012\n",
      "UnderwrittenCoverID: mean(|SHAP|) = 85.4315\n",
      "kilowatts: mean(|SHAP|) = 76.9597\n",
      "PolicyID: mean(|SHAP|) = 74.5314\n",
      "mmcode: mean(|SHAP|) = 73.6760\n",
      "CustomValueEstimate: mean(|SHAP|) = 37.8901\n",
      "\n",
      "Business Interpretation:\n",
      "Feature 'claim_frequency' increases/decreases the predicted claim amount by 22302.42 units on average, holding other factors constant.\n",
      "Feature 'RegistrationYear' increases/decreases the predicted claim amount by 2275.29 units on average, holding other factors constant.\n",
      "Feature 'premium_per_claim' increases/decreases the predicted claim amount by 315.51 units on average, holding other factors constant.\n",
      "Feature 'SumInsured' increases/decreases the predicted claim amount by 142.82 units on average, holding other factors constant.\n",
      "Feature 'PostalCode' increases/decreases the predicted claim amount by 86.80 units on average, holding other factors constant.\n",
      "Feature 'UnderwrittenCoverID' increases/decreases the predicted claim amount by 85.43 units on average, holding other factors constant.\n",
      "Feature 'kilowatts' increases/decreases the predicted claim amount by 76.96 units on average, holding other factors constant.\n",
      "Feature 'PolicyID' increases/decreases the predicted claim amount by 74.53 units on average, holding other factors constant.\n",
      "Feature 'mmcode' increases/decreases the predicted claim amount by 73.68 units on average, holding other factors constant.\n",
      "Feature 'CustomValueEstimate' increases/decreases the predicted claim amount by 37.89 units on average, holding other factors constant.\n"
     ]
    },
    {
     "data": {
      "text/plain": [
       "[('claim_frequency', np.float64(22302.42391825019)),\n",
       " ('RegistrationYear', np.float64(2275.294444775666)),\n",
       " ('premium_per_claim', np.float64(315.51244239157955)),\n",
       " ('SumInsured', np.float64(142.81693960544484)),\n",
       " ('PostalCode', np.float64(86.80115657446648)),\n",
       " ('UnderwrittenCoverID', np.float64(85.43153674884043)),\n",
       " ('kilowatts', np.float64(76.95971027679427)),\n",
       " ('PolicyID', np.float64(74.53141487083768)),\n",
       " ('mmcode', np.float64(73.67599568502762)),\n",
       " ('CustomValueEstimate', np.float64(37.89013073995477))]"
      ]
     },
     "execution_count": 7,
     "metadata": {},
     "output_type": "execute_result"
    }
   ],
   "source": [
    "model.shap_feature_importance()"
   ]
  }
 ],
 "metadata": {
  "kernelspec": {
   "display_name": "Python 3",
   "language": "python",
   "name": "python3"
  },
  "language_info": {
   "codemirror_mode": {
    "name": "ipython",
    "version": 3
   },
   "file_extension": ".py",
   "mimetype": "text/x-python",
   "name": "python",
   "nbconvert_exporter": "python",
   "pygments_lexer": "ipython3",
   "version": "3.13.3"
  }
 },
 "nbformat": 4,
 "nbformat_minor": 2
}
